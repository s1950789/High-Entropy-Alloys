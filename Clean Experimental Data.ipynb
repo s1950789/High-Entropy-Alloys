{
 "cells": [
  {
   "cell_type": "code",
   "execution_count": 2,
   "id": "c0ffcf2a",
   "metadata": {},
   "outputs": [],
   "source": [
    "# High Entropy Alloys Dataset from \n",
    "# \"Expanded dataset of mechanical properties and observed phases of multi-principal element alloys\"\n",
    "# doi:https://doi.org/10.1038/s41597-020-00768-9"
   ]
  },
  {
   "cell_type": "code",
   "execution_count": 3,
   "id": "df73df3f",
   "metadata": {
    "scrolled": true
   },
   "outputs": [],
   "source": [
    "# Import modules\n",
    "import os\n",
    "import numpy as np\n",
    "import pandas as pd\n",
    "import statistics\n",
    "import itertools"
   ]
  },
  {
   "cell_type": "code",
   "execution_count": 4,
   "id": "9901f892",
   "metadata": {},
   "outputs": [],
   "source": [
    "pd.options.display.max_columns = None\n",
    "\n",
    "# Load the dataframe from the CSV file\n",
    "df = pd.read_csv(os.path.abspath('Experimental Data/HEA_data.csv'))"
   ]
  },
  {
   "cell_type": "code",
   "execution_count": 5,
   "id": "de52acc4",
   "metadata": {},
   "outputs": [],
   "source": [
    "# Remove all unneccessary columns\n",
    "new_df = df.loc[:, ['FORMULA', 'PROPERTY: Type of phases', 'PROPERTY: Single/Multiphase', 'PROPERTY: Test temperature ($^\\circ$C)', 'PROPERTY: YS (MPa)']]"
   ]
  },
  {
   "cell_type": "code",
   "execution_count": 6,
   "id": "adda97bb",
   "metadata": {},
   "outputs": [],
   "source": [
    "# Keep only single solid solutions\n",
    "df_singlephase = new_df[new_df['PROPERTY: Single/Multiphase'] == 'S']"
   ]
  },
  {
   "cell_type": "code",
   "execution_count": 7,
   "id": "beb7a423",
   "metadata": {},
   "outputs": [],
   "source": [
    "# Keep only FCC\n",
    "df_FCC = df_singlephase[df_singlephase ['PROPERTY: Type of phases'] == 'FCC']"
   ]
  },
  {
   "cell_type": "code",
   "execution_count": 8,
   "id": "57dfac51",
   "metadata": {},
   "outputs": [],
   "source": [
    "# Keep only formula, test temperature and property columns & rename\n",
    "new_df = df_FCC.loc[:, ['FORMULA','PROPERTY: Test temperature ($^\\circ$C)', 'PROPERTY: YS (MPa)']]\n",
    "\n",
    "# Covert temperature -> to Kelvin\n",
    "new_df['PROPERTY: Test temperature ($^\\circ$C)'] += 273\n",
    "\n",
    "new_df = new_df.rename(columns={'PROPERTY: Test temperature ($^\\circ$C)': 'Test temperature (K)'})\n",
    "\n",
    "new_df = new_df.rename(columns={'PROPERTY: YS (MPa)': 'Yield Stress (MPA)'})"
   ]
  },
  {
   "cell_type": "code",
   "execution_count": 9,
   "id": "ab4cdb4c",
   "metadata": {},
   "outputs": [],
   "source": [
    "# Remove NaN values\n",
    "cleaned_df = new_df.dropna(subset=['Yield Stress (MPA)'])\n",
    "cleaned_df = cleaned_df.dropna(subset=['Test temperature (K)'])"
   ]
  },
  {
   "cell_type": "code",
   "execution_count": 10,
   "id": "1288ad07",
   "metadata": {},
   "outputs": [],
   "source": [
    "# Create an empty DataFrame to store equiatomic compositions\n",
    "equiatomic_df = pd.DataFrame(columns=cleaned_df.columns)\n",
    "\n",
    "# Keep only equiatomic compositions by removing all formula data containing integers\n",
    "for index, row in cleaned_df.iterrows():\n",
    "    if not any(char.isdigit() for char in row[\"FORMULA\"]):\n",
    "        # Append the row to the equiatomic DataFrame using the loc method\n",
    "        equiatomic_df.loc[index] = row"
   ]
  },
  {
   "cell_type": "code",
   "execution_count": 11,
   "id": "7cb018ac",
   "metadata": {},
   "outputs": [],
   "source": [
    "# Export dataset of all equiatomic compositions\n",
    "equiatomic_df.to_csv('/home/jovyan/HEAs/High Entropy Alloys/Experimental Data/equiatomic_data.csv', index=False)"
   ]
  }
 ],
 "metadata": {
  "kernelspec": {
   "display_name": "Python 3 (ipykernel)",
   "language": "python",
   "name": "python3"
  },
  "language_info": {
   "codemirror_mode": {
    "name": "ipython",
    "version": 3
   },
   "file_extension": ".py",
   "mimetype": "text/x-python",
   "name": "python",
   "nbconvert_exporter": "python",
   "pygments_lexer": "ipython3",
   "version": "3.9.12"
  }
 },
 "nbformat": 4,
 "nbformat_minor": 5
}
