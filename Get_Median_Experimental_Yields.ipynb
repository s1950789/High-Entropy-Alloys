{
 "cells": [
  {
   "cell_type": "code",
   "execution_count": 37,
   "id": "88d9aabb",
   "metadata": {},
   "outputs": [],
   "source": [
    "import os\n",
    "import pandas as pd\n",
    "import statistics\n",
    "import itertools\n"
   ]
  },
  {
   "cell_type": "code",
   "execution_count": 38,
   "id": "c2b890c4",
   "metadata": {},
   "outputs": [],
   "source": [
    "# Load the dataframe from the CSV file\n",
    "\n",
    "df = pd.read_csv(os.path.abspath('Experimental Data/equiatomic_data.csv'))"
   ]
  },
  {
   "cell_type": "code",
   "execution_count": 39,
   "id": "eba52949",
   "metadata": {},
   "outputs": [],
   "source": [
    "# Filter out elements not in CANTOR compositions\n",
    "\n",
    "elements = ['Ni', 'Co', 'Fe', 'Mn', 'Cr']\n",
    "\n",
    "\n",
    "CANTOR_elements_df = df[df['FORMULA'].str.findall('[A-Z][a-z]*').apply(lambda x: all(element in elements for element in x))]"
   ]
  },
  {
   "cell_type": "code",
   "execution_count": 40,
   "id": "c737ccac",
   "metadata": {},
   "outputs": [
    {
     "name": "stderr",
     "output_type": "stream",
     "text": [
      "/tmp/ipykernel_70/1747206503.py:3: SettingWithCopyWarning: \n",
      "A value is trying to be set on a copy of a slice from a DataFrame.\n",
      "Try using .loc[row_indexer,col_indexer] = value instead\n",
      "\n",
      "See the caveats in the documentation: https://pandas.pydata.org/pandas-docs/stable/user_guide/indexing.html#returning-a-view-versus-a-copy\n",
      "  CANTOR_elements_df.loc[:, 'Alphabetical Formula'] = CANTOR_elements_df['FORMULA'].apply(lambda f: ''.join(sorted(f)))\n"
     ]
    }
   ],
   "source": [
    "# Create a new column with the formulas in alphabetical order this is used to deal with duplicates e.g FeCoCr = CrFeCo\n",
    "\n",
    "CANTOR_elements_df.loc[:, 'Alphabetical Formula'] = CANTOR_elements_df['FORMULA'].apply(lambda f: ''.join(sorted(f)))"
   ]
  },
  {
   "cell_type": "code",
   "execution_count": 41,
   "id": "fa7fd174",
   "metadata": {},
   "outputs": [
    {
     "name": "stderr",
     "output_type": "stream",
     "text": [
      "/tmp/ipykernel_70/272123220.py:7: FutureWarning: The frame.append method is deprecated and will be removed from pandas in a future version. Use pandas.concat instead.\n",
      "  CANTOR_RT_df = CANTOR_RT_df.append(row, ignore_index=True)\n",
      "/tmp/ipykernel_70/272123220.py:7: FutureWarning: The frame.append method is deprecated and will be removed from pandas in a future version. Use pandas.concat instead.\n",
      "  CANTOR_RT_df = CANTOR_RT_df.append(row, ignore_index=True)\n",
      "/tmp/ipykernel_70/272123220.py:7: FutureWarning: The frame.append method is deprecated and will be removed from pandas in a future version. Use pandas.concat instead.\n",
      "  CANTOR_RT_df = CANTOR_RT_df.append(row, ignore_index=True)\n",
      "/tmp/ipykernel_70/272123220.py:7: FutureWarning: The frame.append method is deprecated and will be removed from pandas in a future version. Use pandas.concat instead.\n",
      "  CANTOR_RT_df = CANTOR_RT_df.append(row, ignore_index=True)\n",
      "/tmp/ipykernel_70/272123220.py:7: FutureWarning: The frame.append method is deprecated and will be removed from pandas in a future version. Use pandas.concat instead.\n",
      "  CANTOR_RT_df = CANTOR_RT_df.append(row, ignore_index=True)\n",
      "/tmp/ipykernel_70/272123220.py:7: FutureWarning: The frame.append method is deprecated and will be removed from pandas in a future version. Use pandas.concat instead.\n",
      "  CANTOR_RT_df = CANTOR_RT_df.append(row, ignore_index=True)\n",
      "/tmp/ipykernel_70/272123220.py:7: FutureWarning: The frame.append method is deprecated and will be removed from pandas in a future version. Use pandas.concat instead.\n",
      "  CANTOR_RT_df = CANTOR_RT_df.append(row, ignore_index=True)\n",
      "/tmp/ipykernel_70/272123220.py:7: FutureWarning: The frame.append method is deprecated and will be removed from pandas in a future version. Use pandas.concat instead.\n",
      "  CANTOR_RT_df = CANTOR_RT_df.append(row, ignore_index=True)\n",
      "/tmp/ipykernel_70/272123220.py:7: FutureWarning: The frame.append method is deprecated and will be removed from pandas in a future version. Use pandas.concat instead.\n",
      "  CANTOR_RT_df = CANTOR_RT_df.append(row, ignore_index=True)\n",
      "/tmp/ipykernel_70/272123220.py:7: FutureWarning: The frame.append method is deprecated and will be removed from pandas in a future version. Use pandas.concat instead.\n",
      "  CANTOR_RT_df = CANTOR_RT_df.append(row, ignore_index=True)\n",
      "/tmp/ipykernel_70/272123220.py:7: FutureWarning: The frame.append method is deprecated and will be removed from pandas in a future version. Use pandas.concat instead.\n",
      "  CANTOR_RT_df = CANTOR_RT_df.append(row, ignore_index=True)\n",
      "/tmp/ipykernel_70/272123220.py:7: FutureWarning: The frame.append method is deprecated and will be removed from pandas in a future version. Use pandas.concat instead.\n",
      "  CANTOR_RT_df = CANTOR_RT_df.append(row, ignore_index=True)\n",
      "/tmp/ipykernel_70/272123220.py:7: FutureWarning: The frame.append method is deprecated and will be removed from pandas in a future version. Use pandas.concat instead.\n",
      "  CANTOR_RT_df = CANTOR_RT_df.append(row, ignore_index=True)\n",
      "/tmp/ipykernel_70/272123220.py:7: FutureWarning: The frame.append method is deprecated and will be removed from pandas in a future version. Use pandas.concat instead.\n",
      "  CANTOR_RT_df = CANTOR_RT_df.append(row, ignore_index=True)\n",
      "/tmp/ipykernel_70/272123220.py:7: FutureWarning: The frame.append method is deprecated and will be removed from pandas in a future version. Use pandas.concat instead.\n",
      "  CANTOR_RT_df = CANTOR_RT_df.append(row, ignore_index=True)\n",
      "/tmp/ipykernel_70/272123220.py:7: FutureWarning: The frame.append method is deprecated and will be removed from pandas in a future version. Use pandas.concat instead.\n",
      "  CANTOR_RT_df = CANTOR_RT_df.append(row, ignore_index=True)\n",
      "/tmp/ipykernel_70/272123220.py:7: FutureWarning: The frame.append method is deprecated and will be removed from pandas in a future version. Use pandas.concat instead.\n",
      "  CANTOR_RT_df = CANTOR_RT_df.append(row, ignore_index=True)\n",
      "/tmp/ipykernel_70/272123220.py:7: FutureWarning: The frame.append method is deprecated and will be removed from pandas in a future version. Use pandas.concat instead.\n",
      "  CANTOR_RT_df = CANTOR_RT_df.append(row, ignore_index=True)\n",
      "/tmp/ipykernel_70/272123220.py:7: FutureWarning: The frame.append method is deprecated and will be removed from pandas in a future version. Use pandas.concat instead.\n",
      "  CANTOR_RT_df = CANTOR_RT_df.append(row, ignore_index=True)\n",
      "/tmp/ipykernel_70/272123220.py:7: FutureWarning: The frame.append method is deprecated and will be removed from pandas in a future version. Use pandas.concat instead.\n",
      "  CANTOR_RT_df = CANTOR_RT_df.append(row, ignore_index=True)\n",
      "/tmp/ipykernel_70/272123220.py:7: FutureWarning: The frame.append method is deprecated and will be removed from pandas in a future version. Use pandas.concat instead.\n",
      "  CANTOR_RT_df = CANTOR_RT_df.append(row, ignore_index=True)\n",
      "/tmp/ipykernel_70/272123220.py:7: FutureWarning: The frame.append method is deprecated and will be removed from pandas in a future version. Use pandas.concat instead.\n",
      "  CANTOR_RT_df = CANTOR_RT_df.append(row, ignore_index=True)\n",
      "/tmp/ipykernel_70/272123220.py:7: FutureWarning: The frame.append method is deprecated and will be removed from pandas in a future version. Use pandas.concat instead.\n",
      "  CANTOR_RT_df = CANTOR_RT_df.append(row, ignore_index=True)\n",
      "/tmp/ipykernel_70/272123220.py:7: FutureWarning: The frame.append method is deprecated and will be removed from pandas in a future version. Use pandas.concat instead.\n",
      "  CANTOR_RT_df = CANTOR_RT_df.append(row, ignore_index=True)\n",
      "/tmp/ipykernel_70/272123220.py:7: FutureWarning: The frame.append method is deprecated and will be removed from pandas in a future version. Use pandas.concat instead.\n",
      "  CANTOR_RT_df = CANTOR_RT_df.append(row, ignore_index=True)\n",
      "/tmp/ipykernel_70/272123220.py:7: FutureWarning: The frame.append method is deprecated and will be removed from pandas in a future version. Use pandas.concat instead.\n",
      "  CANTOR_RT_df = CANTOR_RT_df.append(row, ignore_index=True)\n",
      "/tmp/ipykernel_70/272123220.py:7: FutureWarning: The frame.append method is deprecated and will be removed from pandas in a future version. Use pandas.concat instead.\n",
      "  CANTOR_RT_df = CANTOR_RT_df.append(row, ignore_index=True)\n",
      "/tmp/ipykernel_70/272123220.py:7: FutureWarning: The frame.append method is deprecated and will be removed from pandas in a future version. Use pandas.concat instead.\n",
      "  CANTOR_RT_df = CANTOR_RT_df.append(row, ignore_index=True)\n",
      "/tmp/ipykernel_70/272123220.py:7: FutureWarning: The frame.append method is deprecated and will be removed from pandas in a future version. Use pandas.concat instead.\n",
      "  CANTOR_RT_df = CANTOR_RT_df.append(row, ignore_index=True)\n",
      "/tmp/ipykernel_70/272123220.py:7: FutureWarning: The frame.append method is deprecated and will be removed from pandas in a future version. Use pandas.concat instead.\n",
      "  CANTOR_RT_df = CANTOR_RT_df.append(row, ignore_index=True)\n",
      "/tmp/ipykernel_70/272123220.py:7: FutureWarning: The frame.append method is deprecated and will be removed from pandas in a future version. Use pandas.concat instead.\n",
      "  CANTOR_RT_df = CANTOR_RT_df.append(row, ignore_index=True)\n",
      "/tmp/ipykernel_70/272123220.py:7: FutureWarning: The frame.append method is deprecated and will be removed from pandas in a future version. Use pandas.concat instead.\n",
      "  CANTOR_RT_df = CANTOR_RT_df.append(row, ignore_index=True)\n",
      "/tmp/ipykernel_70/272123220.py:7: FutureWarning: The frame.append method is deprecated and will be removed from pandas in a future version. Use pandas.concat instead.\n",
      "  CANTOR_RT_df = CANTOR_RT_df.append(row, ignore_index=True)\n",
      "/tmp/ipykernel_70/272123220.py:7: FutureWarning: The frame.append method is deprecated and will be removed from pandas in a future version. Use pandas.concat instead.\n",
      "  CANTOR_RT_df = CANTOR_RT_df.append(row, ignore_index=True)\n",
      "/tmp/ipykernel_70/272123220.py:7: FutureWarning: The frame.append method is deprecated and will be removed from pandas in a future version. Use pandas.concat instead.\n",
      "  CANTOR_RT_df = CANTOR_RT_df.append(row, ignore_index=True)\n",
      "/tmp/ipykernel_70/272123220.py:7: FutureWarning: The frame.append method is deprecated and will be removed from pandas in a future version. Use pandas.concat instead.\n",
      "  CANTOR_RT_df = CANTOR_RT_df.append(row, ignore_index=True)\n",
      "/tmp/ipykernel_70/272123220.py:7: FutureWarning: The frame.append method is deprecated and will be removed from pandas in a future version. Use pandas.concat instead.\n",
      "  CANTOR_RT_df = CANTOR_RT_df.append(row, ignore_index=True)\n"
     ]
    },
    {
     "name": "stderr",
     "output_type": "stream",
     "text": [
      "/tmp/ipykernel_70/272123220.py:7: FutureWarning: The frame.append method is deprecated and will be removed from pandas in a future version. Use pandas.concat instead.\n",
      "  CANTOR_RT_df = CANTOR_RT_df.append(row, ignore_index=True)\n",
      "/tmp/ipykernel_70/272123220.py:7: FutureWarning: The frame.append method is deprecated and will be removed from pandas in a future version. Use pandas.concat instead.\n",
      "  CANTOR_RT_df = CANTOR_RT_df.append(row, ignore_index=True)\n",
      "/tmp/ipykernel_70/272123220.py:7: FutureWarning: The frame.append method is deprecated and will be removed from pandas in a future version. Use pandas.concat instead.\n",
      "  CANTOR_RT_df = CANTOR_RT_df.append(row, ignore_index=True)\n",
      "/tmp/ipykernel_70/272123220.py:7: FutureWarning: The frame.append method is deprecated and will be removed from pandas in a future version. Use pandas.concat instead.\n",
      "  CANTOR_RT_df = CANTOR_RT_df.append(row, ignore_index=True)\n",
      "/tmp/ipykernel_70/272123220.py:7: FutureWarning: The frame.append method is deprecated and will be removed from pandas in a future version. Use pandas.concat instead.\n",
      "  CANTOR_RT_df = CANTOR_RT_df.append(row, ignore_index=True)\n",
      "/tmp/ipykernel_70/272123220.py:7: FutureWarning: The frame.append method is deprecated and will be removed from pandas in a future version. Use pandas.concat instead.\n",
      "  CANTOR_RT_df = CANTOR_RT_df.append(row, ignore_index=True)\n",
      "/tmp/ipykernel_70/272123220.py:7: FutureWarning: The frame.append method is deprecated and will be removed from pandas in a future version. Use pandas.concat instead.\n",
      "  CANTOR_RT_df = CANTOR_RT_df.append(row, ignore_index=True)\n",
      "/tmp/ipykernel_70/272123220.py:7: FutureWarning: The frame.append method is deprecated and will be removed from pandas in a future version. Use pandas.concat instead.\n",
      "  CANTOR_RT_df = CANTOR_RT_df.append(row, ignore_index=True)\n",
      "/tmp/ipykernel_70/272123220.py:7: FutureWarning: The frame.append method is deprecated and will be removed from pandas in a future version. Use pandas.concat instead.\n",
      "  CANTOR_RT_df = CANTOR_RT_df.append(row, ignore_index=True)\n",
      "/tmp/ipykernel_70/272123220.py:7: FutureWarning: The frame.append method is deprecated and will be removed from pandas in a future version. Use pandas.concat instead.\n",
      "  CANTOR_RT_df = CANTOR_RT_df.append(row, ignore_index=True)\n",
      "/tmp/ipykernel_70/272123220.py:7: FutureWarning: The frame.append method is deprecated and will be removed from pandas in a future version. Use pandas.concat instead.\n",
      "  CANTOR_RT_df = CANTOR_RT_df.append(row, ignore_index=True)\n",
      "/tmp/ipykernel_70/272123220.py:7: FutureWarning: The frame.append method is deprecated and will be removed from pandas in a future version. Use pandas.concat instead.\n",
      "  CANTOR_RT_df = CANTOR_RT_df.append(row, ignore_index=True)\n",
      "/tmp/ipykernel_70/272123220.py:7: FutureWarning: The frame.append method is deprecated and will be removed from pandas in a future version. Use pandas.concat instead.\n",
      "  CANTOR_RT_df = CANTOR_RT_df.append(row, ignore_index=True)\n",
      "/tmp/ipykernel_70/272123220.py:7: FutureWarning: The frame.append method is deprecated and will be removed from pandas in a future version. Use pandas.concat instead.\n",
      "  CANTOR_RT_df = CANTOR_RT_df.append(row, ignore_index=True)\n",
      "/tmp/ipykernel_70/272123220.py:7: FutureWarning: The frame.append method is deprecated and will be removed from pandas in a future version. Use pandas.concat instead.\n",
      "  CANTOR_RT_df = CANTOR_RT_df.append(row, ignore_index=True)\n",
      "/tmp/ipykernel_70/272123220.py:7: FutureWarning: The frame.append method is deprecated and will be removed from pandas in a future version. Use pandas.concat instead.\n",
      "  CANTOR_RT_df = CANTOR_RT_df.append(row, ignore_index=True)\n",
      "/tmp/ipykernel_70/272123220.py:7: FutureWarning: The frame.append method is deprecated and will be removed from pandas in a future version. Use pandas.concat instead.\n",
      "  CANTOR_RT_df = CANTOR_RT_df.append(row, ignore_index=True)\n",
      "/tmp/ipykernel_70/272123220.py:7: FutureWarning: The frame.append method is deprecated and will be removed from pandas in a future version. Use pandas.concat instead.\n",
      "  CANTOR_RT_df = CANTOR_RT_df.append(row, ignore_index=True)\n",
      "/tmp/ipykernel_70/272123220.py:7: FutureWarning: The frame.append method is deprecated and will be removed from pandas in a future version. Use pandas.concat instead.\n",
      "  CANTOR_RT_df = CANTOR_RT_df.append(row, ignore_index=True)\n",
      "/tmp/ipykernel_70/272123220.py:7: FutureWarning: The frame.append method is deprecated and will be removed from pandas in a future version. Use pandas.concat instead.\n",
      "  CANTOR_RT_df = CANTOR_RT_df.append(row, ignore_index=True)\n",
      "/tmp/ipykernel_70/272123220.py:7: FutureWarning: The frame.append method is deprecated and will be removed from pandas in a future version. Use pandas.concat instead.\n",
      "  CANTOR_RT_df = CANTOR_RT_df.append(row, ignore_index=True)\n",
      "/tmp/ipykernel_70/272123220.py:7: FutureWarning: The frame.append method is deprecated and will be removed from pandas in a future version. Use pandas.concat instead.\n",
      "  CANTOR_RT_df = CANTOR_RT_df.append(row, ignore_index=True)\n",
      "/tmp/ipykernel_70/272123220.py:7: FutureWarning: The frame.append method is deprecated and will be removed from pandas in a future version. Use pandas.concat instead.\n",
      "  CANTOR_RT_df = CANTOR_RT_df.append(row, ignore_index=True)\n",
      "/tmp/ipykernel_70/272123220.py:7: FutureWarning: The frame.append method is deprecated and will be removed from pandas in a future version. Use pandas.concat instead.\n",
      "  CANTOR_RT_df = CANTOR_RT_df.append(row, ignore_index=True)\n",
      "/tmp/ipykernel_70/272123220.py:7: FutureWarning: The frame.append method is deprecated and will be removed from pandas in a future version. Use pandas.concat instead.\n",
      "  CANTOR_RT_df = CANTOR_RT_df.append(row, ignore_index=True)\n",
      "/tmp/ipykernel_70/272123220.py:7: FutureWarning: The frame.append method is deprecated and will be removed from pandas in a future version. Use pandas.concat instead.\n",
      "  CANTOR_RT_df = CANTOR_RT_df.append(row, ignore_index=True)\n",
      "/tmp/ipykernel_70/272123220.py:7: FutureWarning: The frame.append method is deprecated and will be removed from pandas in a future version. Use pandas.concat instead.\n",
      "  CANTOR_RT_df = CANTOR_RT_df.append(row, ignore_index=True)\n"
     ]
    }
   ],
   "source": [
    "# Keep only T = 298K\n",
    "\n",
    "CANTOR_RT_df = pd.DataFrame() \n",
    "\n",
    "for index, row in CANTOR_elements_df.iterrows():\n",
    "    if row[\"Test temperature (K)\"] == 298:\n",
    "        CANTOR_RT_df = CANTOR_RT_df.append(row, ignore_index=True)"
   ]
  },
  {
   "cell_type": "code",
   "execution_count": 42,
   "id": "e78e9dbf",
   "metadata": {},
   "outputs": [],
   "source": [
    "# Find all unique compositions using alphabetically sorted formula\n",
    "\n",
    "unique_comp_data = {}\n",
    "\n",
    "for composition in CANTOR_RT_df['Alphabetical Formula'].unique().tolist():\n",
    "    unique_comp_data[composition] = []"
   ]
  },
  {
   "cell_type": "code",
   "execution_count": 43,
   "id": "ffc0399c",
   "metadata": {},
   "outputs": [],
   "source": [
    "# Append experimenatl yield stress data to unique compoistions\n",
    "\n",
    "for index, row in CANTOR_RT_df.iterrows():\n",
    "    \n",
    "    stress = row[\"Yield Stress (MPA)\"]\n",
    "    \n",
    "    marker = row[\"Alphabetical Formula\"]\n",
    "    \n",
    "    unique_comp_data[marker].append(stress)"
   ]
  },
  {
   "cell_type": "code",
   "execution_count": 44,
   "id": "a06688d7",
   "metadata": {},
   "outputs": [
    {
     "name": "stdout",
     "output_type": "stream",
     "text": [
      "{'CFNeio': 210.0, 'CCFNeior': 273.0, 'CCMNinor': 282.0, 'CCNior': 471.5, 'CFMNeino': 170.0, 'CMNino': 321.0, 'FMNein': 407.0, 'CCFMNeinor': 378.7}\n"
     ]
    }
   ],
   "source": [
    "# Take median points of experimental data to remove outliers\n",
    "\n",
    "ave_dict = {}\n",
    "\n",
    "for composition in unique_comp_data:\n",
    "    ave_dict[composition] = []\n",
    "    \n",
    "    ave_stress = statistics.median(map(float, unique_comp_data[composition]))\n",
    "    ave_dict[composition] = ave_stress\n",
    "    \n",
    "print(ave_dict)"
   ]
  },
  {
   "cell_type": "code",
   "execution_count": 45,
   "id": "3151a9a2",
   "metadata": {},
   "outputs": [],
   "source": [
    "# We now have median yield stress data (at 298K) for differenent equiatomic alloys comprised from CANTOR elements \n",
    "# To compare experimental values to theoretical we need to replace the alphabetically sorted formula with actual formula"
   ]
  },
  {
   "cell_type": "code",
   "execution_count": 46,
   "id": "f0f6cb2a",
   "metadata": {},
   "outputs": [
    {
     "name": "stdout",
     "output_type": "stream",
     "text": [
      "['NiCoFe', 'NiCoMn', 'NiCoCr', 'NiFeMn', 'NiFeCr', 'NiMnCr', 'CoFeMn', 'CoFeCr', 'CoMnCr', 'FeMnCr', 'NiCoFeMn', 'NiCoFeCr', 'NiCoMnCr', 'NiFeMnCr', 'CoFeMnCr', 'NiCoFeMnCr']\n"
     ]
    }
   ],
   "source": [
    "# From elemental data list generate possible combinations\n",
    "\n",
    "Elemental_data = {\n",
    "    \"Goldschmidt Radii\": {'Ni':1.24, 'Co':1.25, 'Fe':1.26, 'Mn':1.27, 'Cr':1.28},\n",
    "    \"Atomic Volume\": {'Ni':10.94, 'Co':11.12, 'Fe':12.09, 'Mn':12.60, 'Cr':12.27},\n",
    "    \"Shear Modulus\": {'Ni':76, 'Co':76, 'Fe':82, 'Mn':44, 'Cr':115},\n",
    "    \"Poisson Ratio\": { 'Ni':0.31, 'Co':0.31, 'Fe':0.28, 'Mn':0.26, 'Cr':0.21}\n",
    "}\n",
    "\n",
    "available_elements = list(Elemental_data[\"Goldschmidt Radii\"].keys())\n",
    "\n",
    "all_compoistions = []\n",
    "\n",
    "for element in range(3, len(available_elements)+1):\n",
    "    \n",
    "        combinations = itertools.combinations(available_elements, element)\n",
    "        \n",
    "        for combo in combinations:\n",
    "            all_compoistions.append(\"\".join(combo))\n",
    "        \n",
    "print(all_compoistions)"
   ]
  },
  {
   "cell_type": "code",
   "execution_count": 47,
   "id": "266d5196",
   "metadata": {},
   "outputs": [
    {
     "name": "stdout",
     "output_type": "stream",
     "text": [
      "{'NiCoFe': 'CFNeio', 'NiCoMn': 'CMNino', 'NiCoCr': 'CCNior', 'NiFeMn': 'FMNein', 'NiFeCr': 'CFNeir', 'NiMnCr': 'CMNinr', 'CoFeMn': 'CFMeno', 'CoFeCr': 'CCFeor', 'CoMnCr': 'CCMnor', 'FeMnCr': 'CFMenr', 'NiCoFeMn': 'CFMNeino', 'NiCoFeCr': 'CCFNeior', 'NiCoMnCr': 'CCMNinor', 'NiFeMnCr': 'CFMNeinr', 'CoFeMnCr': 'CCFMenor', 'NiCoFeMnCr': 'CCFMNeinor'}\n"
     ]
    }
   ],
   "source": [
    "# Create a dictionary where {Chemical Formula: Alphabetically sorted chemical formula} \n",
    "# This is required to rename experimental data values\n",
    "\n",
    "alphabetical_key = {}   \n",
    "\n",
    "for composition in all_compoistions:\n",
    "    alphabetical_key[composition] = []\n",
    "    \n",
    "    alphabetical = sorted(list(composition))\n",
    "    alphabetical_key[composition]  = \"\".join(alphabetical)\n",
    "    \n",
    "print(alphabetical_key)"
   ]
  },
  {
   "cell_type": "code",
   "execution_count": 48,
   "id": "a8d926f5",
   "metadata": {},
   "outputs": [
    {
     "name": "stdout",
     "output_type": "stream",
     "text": [
      "{'NiCoFe': 210.0, 'NiCoFeCr': 273.0, 'NiCoMnCr': 282.0, 'NiCoCr': 471.5, 'NiCoFeMn': 170.0, 'NiCoMn': 321.0, 'NiFeMn': 407.0, 'NiCoFeMnCr': 378.7}\n"
     ]
    }
   ],
   "source": [
    "# Replace alphabetically sorted formula names with chemical forumalas\n",
    "\n",
    "experimental_data = {}\n",
    "\n",
    "for k, v in ave_dict.items():\n",
    "    for key, val in alphabetical_key.items():\n",
    "        if val == k:\n",
    "            experimental_data[key] = v\n",
    "            break\n",
    "\n",
    "print(experimental_data)"
   ]
  },
  {
   "cell_type": "code",
   "execution_count": null,
   "id": "a7b9bb33",
   "metadata": {},
   "outputs": [],
   "source": []
  }
 ],
 "metadata": {
  "kernelspec": {
   "display_name": "Python 3 (ipykernel)",
   "language": "python",
   "name": "python3"
  },
  "language_info": {
   "codemirror_mode": {
    "name": "ipython",
    "version": 3
   },
   "file_extension": ".py",
   "mimetype": "text/x-python",
   "name": "python",
   "nbconvert_exporter": "python",
   "pygments_lexer": "ipython3",
   "version": "3.9.12"
  }
 },
 "nbformat": 4,
 "nbformat_minor": 5
}
